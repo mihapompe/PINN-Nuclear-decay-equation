{
 "cells": [
  {
   "cell_type": "markdown",
   "metadata": {},
   "source": [
    "#### Imports"
   ]
  },
  {
   "cell_type": "code",
   "execution_count": 1,
   "metadata": {},
   "outputs": [
    {
     "name": "stdout",
     "output_type": "stream",
     "text": [
      "Running on  cpu\n"
     ]
    }
   ],
   "source": [
    "from Bateman_PINN import *\n",
    "import matplotlib.pyplot as plt\n",
    "\n",
    "%reload_ext autoreload\n",
    "%autoreload 2"
   ]
  },
  {
   "cell_type": "markdown",
   "metadata": {},
   "source": [
    "### Test of _BatemanPINN_ for 2 isotopes"
   ]
  },
  {
   "cell_type": "markdown",
   "metadata": {},
   "source": [
    "Here we are going to test the class _BatemanPINN_ checking: \n",
    "* auto-stop in the training\n",
    "* plot the loss function\n",
    "* compare with the analytical solution"
   ]
  },
  {
   "cell_type": "code",
   "execution_count": 32,
   "metadata": {},
   "outputs": [],
   "source": [
    "#parameters for the PINN\n",
    "lamda = [200,3]\n",
    "lamda_matrix = get_lamda_matrix(lamda, n_isotopes=2)\n",
    "n_hidden_layers = 1\n",
    "neurons = 2#50\n",
    "\n",
    "#parameters for the training\n",
    "t_max = 2.5\n",
    "t_steps = 10000\n",
    "weights = [50, 1]       # loss weights [IC_loss, ODE_loss]"
   ]
  },
  {
   "cell_type": "markdown",
   "metadata": {},
   "source": [
    "#### Test the auto-stop"
   ]
  },
  {
   "cell_type": "code",
   "execution_count": 3,
   "metadata": {},
   "outputs": [
    {
     "name": "stdout",
     "output_type": "stream",
     "text": [
      "INFO ON THE TRAINING:\n",
      "\n",
      "\t Training flag:\t\t auto_stop\n",
      "\t Number of epochs done:\t 19 \n",
      "\n"
     ]
    }
   ],
   "source": [
    "#create the PINN\n",
    "PINN = BatemanPINN(lamda_matrix, n_hidden_layers, neurons)\n",
    "PINN.xavier()\n",
    "#train the PINN\n",
    "training_output = train(PINN, t_max, t_steps, weights=weights, auto_stop=True, abstol=1e-5, patience=10, normalize_data=False, verbose=False)  # type: ignore\n",
    "print('INFO ON THE TRAINING:\\n')\n",
    "print('\\t', 'Training flag:\\t\\t', training_output[2])\n",
    "print('\\t', 'Number of epochs done:\\t', training_output[1], '\\n')\n",
    "#evaluate the population with the PINN\n",
    "PINN.eval() #prepare the PINN to evaluate\n",
    "t_eval = torch.linspace(0, t_max, t_steps, requires_grad=True, device=DEVICE).reshape(-1,1)    #reshape it to a tensor [1, t_steps]\n",
    "N_t = PINN(t_eval)\n",
    "\n",
    "#save the predictions on np array\n",
    "N1_t = N_t[:, 0].cpu().detach().numpy()\n",
    "N2_t = N_t[:, 1].cpu().detach().numpy()\n",
    "t_draw = t_eval[:,0].cpu().detach().numpy()"
   ]
  },
  {
   "cell_type": "markdown",
   "metadata": {},
   "source": [
    "#### Plot the loss function"
   ]
  },
  {
   "cell_type": "code",
   "execution_count": 4,
   "metadata": {},
   "outputs": [
    {
     "data": {
      "image/png": "[encoded data removed]",
      "text/plain": [
       "<Figure size 700x500 with 1 Axes>"
      ]
     },
     "metadata": {},
     "output_type": "display_data"
    }
   ],
   "source": [
    "plt.figure(figsize=(7,5)) \n",
    "plt.loglog(range(len(training_output[0])), training_output[0], label='loss function')\n",
    "\n",
    "plt.xlabel('epoch')\n",
    "plt.ylabel('loss')\n",
    "plt.title(r'Loss Function')\n",
    "plt.legend()\n",
    "plt.show()"
   ]
  },
  {
   "cell_type": "code",
   "execution_count": 5,
   "metadata": {},
   "outputs": [
    {
     "name": "stdout",
     "output_type": "stream",
     "text": [
      "=================================================================\n",
      "Layer (type:depth-idx)                   Param #\n",
      "=================================================================\n",
      "├─Linear: 1-1                            2\n",
      "├─ModuleList: 1-2                        --\n",
      "├─Linear: 1-3                            4\n",
      "=================================================================\n",
      "Total params: 6\n",
      "Trainable params: 6\n",
      "Non-trainable params: 0\n",
      "=================================================================\n"
     ]
    },
    {
     "data": {
      "text/plain": [
       "=================================================================\n",
       "Layer (type:depth-idx)                   Param #\n",
       "=================================================================\n",
       "├─Linear: 1-1                            2\n",
       "├─ModuleList: 1-2                        --\n",
       "├─Linear: 1-3                            4\n",
       "=================================================================\n",
       "Total params: 6\n",
       "Trainable params: 6\n",
       "Non-trainable params: 0\n",
       "================================================================="
      ]
     },
     "execution_count": 5,
     "metadata": {},
     "output_type": "execute_result"
    }
   ],
   "source": [
    "from torchsummary import summary\n",
    "summary(PINN)"
   ]
  },
  {
   "cell_type": "markdown",
   "metadata": {},
   "source": [
    "#### Conpare with the analytical solution"
   ]
  },
  {
   "cell_type": "code",
   "execution_count": 11,
   "metadata": {},
   "outputs": [
    {
     "name": "stderr",
     "output_type": "stream",
     "text": [
      "/Users/mihapompe/miniforge3/envs/PINN/lib/python3.9/site-packages/scipy/sparse/linalg/_dsolve/linsolve.py:214: SparseEfficiencyWarning: spsolve requires A be CSC or CSR matrix format\n",
      "  warn('spsolve requires A be CSC or CSR matrix format',\n"
     ]
    }
   ],
   "source": [
    "N1_analy_t = []\n",
    "N2_analy_t = []\n",
    "\n",
    "# for t_i in t_draw:\n",
    "#     N1_ti, N2_ti = get_AnalyticalSolution(PINN.lamda.cpu(), PINN.initial.cpu(), t_i)\n",
    "#     N1_analy_t.append(N1_ti)\n",
    "#     N2_analy_t.append(N2_ti)\n",
    "\n",
    "Ns = get_AnalyticalSolution_CRAM(PINN.lamda_matrix.cpu().numpy(), PINN.initial.cpu().numpy(), t_draw).T\n",
    "N1_analy_t, N2_analy_t = Ns"
   ]
  },
  {
   "cell_type": "markdown",
   "metadata": {},
   "source": [
    "Draw the two different solutions to confront them"
   ]
  },
  {
   "cell_type": "code",
   "execution_count": 14,
   "metadata": {},
   "outputs": [
    {
     "data": {
      "image/png": "[encoded data removed]",
      "text/plain": [
       "<Figure size 900x700 with 1 Axes>"
      ]
     },
     "metadata": {},
     "output_type": "display_data"
    }
   ],
   "source": [
    "plt.figure(figsize=(9,7)) \n",
    "plt.plot(t_draw, N1_t, label='N1_PINN(t)', color='orange')\n",
    "plt.plot(t_draw, N2_t, label='N2_PINN(t)', color='purple')\n",
    "\n",
    "plt.plot(t_draw, N1_analy_t, label='N1_Analytical(t)', color='green', linestyle='--', dashes=(5, 10))\n",
    "plt.plot(t_draw, N2_analy_t, label='N2_Analytical(t)', color='lime', linestyle='--', dashes=(5, 10))\n",
    "\n",
    "plt.xlabel('time (s)')\n",
    "plt.ylabel('loss')\n",
    "plt.title('Plot the populations for 2 isotopes')\n",
    "plt.legend()\n",
    "plt.show()"
   ]
  },
  {
   "cell_type": "markdown",
   "metadata": {},
   "source": [
    "### Test of _BatemanPINN_ for 3 isotopes"
   ]
  },
  {
   "cell_type": "code",
   "execution_count": 33,
   "metadata": {},
   "outputs": [
    {
     "name": "stdout",
     "output_type": "stream",
     "text": [
      "lambda_matrix:\n",
      " [[-62   0   0]\n",
      " [ 62  -3   0]\n",
      " [  0   3   0]]\n"
     ]
    }
   ],
   "source": [
    "#parameters for the PINN\n",
    "lamda = [62,3,0]\n",
    "lamda_matrix = get_lamda_matrix(lamda, n_isotopes=3)\n",
    "n_hidden_layers = 1\n",
    "neurons = 50\n",
    "\n",
    "#parameters for the training\n",
    "t_max = 3.5\n",
    "t_steps = 1000\n",
    "weights = [50,1]\n",
    "\n",
    "print('lambda_matrix:\\n', lamda_matrix)"
   ]
  },
  {
   "cell_type": "code",
   "execution_count": null,
   "metadata": {},
   "outputs": [],
   "source": [
    "#create the PINN\n",
    "PINN = BatemanPINN(lamda_matrix, n_hidden_layers, neurons, initial=[100.,0,0])\n",
    "PINN.xavier()\n",
    "\n",
    "#train the PINN\n",
    "loss, epochs_done, flag = train(PINN, t_max, t_steps, weights=weights, auto_stop=True, abstol=1e-7, patience=10, normalize_data=False, verbose=False)  # type: ignore\n",
    "\n",
    "'''\n",
    "print('INFO ON THE TRAINING:\\n')\n",
    "print('\\t', 'Training flag:\\t\\t', flag)\n",
    "print('\\t', 'Number of epochs done:\\t', epochs_done, '\\n')\n",
    "'''\n",
    "\n",
    "#evaluate the population with the PINN\n",
    "PINN.eval() #prepare the PINN to evaluate\n",
    "t_eval = torch.linspace(0, t_max, t_steps, requires_grad=True, device=DEVICE).reshape(-1,1)    #reshape it to a tensor [1, t_steps]\n",
    "N_t = PINN(t_eval)\n",
    "\n",
    "#save the predictions on np array\n",
    "N1_t = N_t[:, 0].cpu().detach().numpy()\n",
    "N2_t = N_t[:, 1].cpu().detach().numpy()\n",
    "N3_t = N_t[:, 2].cpu().detach().numpy()\n",
    "t_draw = t_eval[:,0].cpu().detach().numpy()\n",
    "\n",
    "#anlaytical solution\n",
    "N1_analy_t = []\n",
    "N2_analy_t = []\n",
    "N3_analy_t = []\n",
    "\n",
    "for t_i in t_draw:\n",
    "    N_analy = get_AnalyticalSolution(PINN.lamda.cpu().detach().numpy(), PINN.initial.cpu().detach().numpy(), t_i)\n",
    "\n",
    "    N1_analy_t.append(N_analy[0])\n",
    "    N2_analy_t.append(N_analy[1])\n",
    "    N3_analy_t.append(N_analy[2])"
   ]
  },
  {
   "cell_type": "code",
   "execution_count": null,
   "metadata": {},
   "outputs": [],
   "source": [
    "print(\"I've done: \", epochs_done, \" epochs\\n\\n\")\n",
    "plt.figure(figsize=(7,5)) \n",
    "plt.plot(range(len(loss)), loss, label='loss function')\n",
    "\n",
    "plt.xlabel('epoch')\n",
    "plt.ylabel('loss')\n",
    "plt.title(r'Loss Function')\n",
    "plt.legend()\n",
    "plt.show()"
   ]
  },
  {
   "cell_type": "markdown",
   "metadata": {},
   "source": [
    "Plot the polutations"
   ]
  },
  {
   "cell_type": "code",
   "execution_count": null,
   "metadata": {},
   "outputs": [],
   "source": [
    "plt.figure(figsize=(9,7)) \n",
    "plt.plot(t_draw, N1_t, label='N1_PINN(t)', color='orange')\n",
    "plt.plot(t_draw, N2_t, label='N2_PINN(t)', color='purple')\n",
    "plt.plot(t_draw, N3_t, label='N3_PINN(t)', color='blue')\n",
    "\n",
    "plt.plot(t_draw, N1_analy_t, label='N1_Analytical(t)', color='green', linestyle='--', dashes=(5, 10))\n",
    "plt.plot(t_draw, N2_analy_t, label='N2_Analytical(t)', color='lime', linestyle='--', dashes=(5, 10))\n",
    "plt.plot(t_draw, N3_analy_t, label='N3_Analytical(t)', color='aqua', linestyle='--', dashes=(5, 10))\n",
    "\n",
    "plt.xlabel('time (s)')\n",
    "plt.ylabel('Population')\n",
    "plt.title(f'Decay of 3 isotopes')\n",
    "plt.text(4, 4, f'lamdba: {lamda}\\nlayer: {n_hidden_layers}\\nneurons: {neurons}\\nt_steps: {t_steps}\\nweights: {weights}')\n",
    "plt.legend()\n",
    "plt.show()"
   ]
  },
  {
   "attachments": {},
   "cell_type": "markdown",
   "metadata": {},
   "source": [
    "### Test of the method for bigger matrics"
   ]
  },
  {
   "cell_type": "code",
   "execution_count": 37,
   "metadata": {},
   "outputs": [],
   "source": [
    "PATH = \"/Users/mihapompe/Documents/Software/PINNs/miha-semester/data/A_matrices/\"\n",
    "five = \"Pu241_decay_n=5.npz\"\n",
    "twelve = \"Th232_decay_n=12.npz\"\n",
    "seventeen = \"Rn222_decay_n=17.npz\"\n",
    "big = \"endfb68.npz\"\n",
    "big2 = \"endfb71.npz\"\n",
    "big3 = \"jeff311.npz\"\n",
    "\n",
    "from scipy.sparse import load_npz, dia_array\n",
    "lamda_matrix = load_npz(PATH+big).toarray()"
   ]
  },
  {
   "cell_type": "code",
   "execution_count": 36,
   "metadata": {},
   "outputs": [
    {
     "data": {
      "text/plain": [
       "Text(0.5, 1.0, 'Eigenspactrum')"
      ]
     },
     "execution_count": 36,
     "metadata": {},
     "output_type": "execute_result"
    },
    {
     "data": {
      "image/png": "[encoded data removed]",
      "text/plain": [
       "<Figure size 640x480 with 1 Axes>"
      ]
     },
     "metadata": {},
     "output_type": "display_data"
    }
   ],
   "source": [
    "lam = np.linalg.eig(lamda_matrix)[0]\n",
    "idx = lam.argsort()[::-1]   \n",
    "lam = lam[idx]\n",
    "lam = lam[lam < 0]\n",
    "plt.plot(-lam)\n",
    "plt.yscale(\"log\")\n",
    "plt.ylabel(\"Eigenvalue\")\n",
    "plt.title(\"Eigenspactrum\")"
   ]
  },
  {
   "cell_type": "code",
   "execution_count": 38,
   "metadata": {},
   "outputs": [
    {
     "data": {
      "text/plain": [
       "(1624, 1624)"
      ]
     },
     "execution_count": 38,
     "metadata": {},
     "output_type": "execute_result"
    }
   ],
   "source": [
    "lamda_matrix.shape"
   ]
  },
  {
   "cell_type": "code",
   "execution_count": 39,
   "metadata": {},
   "outputs": [
    {
     "data": {
      "text/plain": [
       "2525"
      ]
     },
     "execution_count": 39,
     "metadata": {},
     "output_type": "execute_result"
    }
   ],
   "source": [
    "np.sum(lamda_matrix != 0)"
   ]
  },
  {
   "cell_type": "code",
   "execution_count": 50,
   "metadata": {},
   "outputs": [
    {
     "name": "stdout",
     "output_type": "stream",
     "text": [
      "torch.Size([1624, 1624])\n",
      "torch.Size([1624, 1])\n"
     ]
    },
    {
     "data": {
      "text/plain": [
       "tensor([[2.5811e-10],\n",
       "        [0.0000e+00],\n",
       "        [0.0000e+00],\n",
       "        ...,\n",
       "        [0.0000e+00],\n",
       "        [0.0000e+00],\n",
       "        [0.0000e+00]], dtype=torch.float64)"
      ]
     },
     "execution_count": 50,
     "metadata": {},
     "output_type": "execute_result"
    }
   ],
   "source": [
    "import torch\n",
    "a = torch.tensor(lamda_matrix)\n",
    "b = a.to_sparse()\n",
    "c = torch.tensor(np.ones((1624, 1)))\n",
    "print(b.shape)\n",
    "print(c.shape)\n",
    "torch.sparse.mm(b, c)"
   ]
  },
  {
   "cell_type": "code",
   "execution_count": 13,
   "metadata": {},
   "outputs": [
    {
     "name": "stderr",
     "output_type": "stream",
     "text": [
      "/var/folders/vd/1s5tjyzd0b53qpf4dc5m7ttm0000gn/T/ipykernel_36641/791552292.py:1: RuntimeWarning: divide by zero encountered in log\n",
      "  plt.matshow(np.log(lamda_matrix))\n",
      "/var/folders/vd/1s5tjyzd0b53qpf4dc5m7ttm0000gn/T/ipykernel_36641/791552292.py:1: RuntimeWarning: invalid value encountered in log\n",
      "  plt.matshow(np.log(lamda_matrix))\n"
     ]
    },
    {
     "data": {
      "text/plain": [
       "<matplotlib.image.AxesImage at 0x13350e6a0>"
      ]
     },
     "execution_count": 13,
     "metadata": {},
     "output_type": "execute_result"
    },
    {
     "data": {
      "image/png": "[encoded data removed]",
      "text/plain": [
       "<Figure size 480x480 with 1 Axes>"
      ]
     },
     "metadata": {},
     "output_type": "display_data"
    }
   ],
   "source": [
    "plt.matshow(np.log(lamda_matrix))"
   ]
  },
  {
   "attachments": {},
   "cell_type": "markdown",
   "metadata": {},
   "source": [
    "Remove all the columns and rows where the diagonal value is zero."
   ]
  },
  {
   "cell_type": "code",
   "execution_count": 3,
   "metadata": {},
   "outputs": [],
   "source": [
    "dia = np.diag(lamda_matrix)\n",
    "n = len(dia)\n",
    "for i in range(n-1, -1, -1):\n",
    "    if dia[i] == 0:\n",
    "        lamda_matrix = np.delete(lamda_matrix, i, 0)\n",
    "        lamda_matrix = np.delete(lamda_matrix, i, 1)"
   ]
  },
  {
   "cell_type": "code",
   "execution_count": 4,
   "metadata": {},
   "outputs": [
    {
     "name": "stdout",
     "output_type": "stream",
     "text": [
      "[-2.25538134e-18 -5.51097179e-09 -1.65732680e-08 -3.16231532e-06\n",
      " -2.61069340e-05 -4.51671183e-05 -2.75254611e-04 -5.45911126e-03\n",
      " -1.79856115e-02 -6.89655172e+00 -3.34448161e+06]\n"
     ]
    },
    {
     "data": {
      "text/plain": [
       "1.4828896321070234e+24"
      ]
     },
     "execution_count": 4,
     "metadata": {},
     "output_type": "execute_result"
    }
   ],
   "source": [
    "lam = np.linalg.eig(lamda_matrix)[0]\n",
    "idx = lam.argsort()[::-1]   \n",
    "lam = lam[idx]\n",
    "lam = lam[lam < 0]\n",
    "print(lam)\n",
    "stiffness = lam[-1]/lam[0]\n",
    "stiffness"
   ]
  },
  {
   "cell_type": "code",
   "execution_count": 5,
   "metadata": {},
   "outputs": [
    {
     "name": "stdout",
     "output_type": "stream",
     "text": [
      "tensor([100.,   0.,   0.,   0.,   0.,   0.,   0.,   0.,   0.,   0.,   0.])\n"
     ]
    },
    {
     "ename": "RuntimeError",
     "evalue": "expected scalar type Float but found Double",
     "output_type": "error",
     "traceback": [
      "\u001b[0;31m---------------------------------------------------------------------------\u001b[0m",
      "\u001b[0;31mRuntimeError\u001b[0m                              Traceback (most recent call last)",
      "Cell \u001b[0;32mIn[5], line 17\u001b[0m\n\u001b[1;32m     14\u001b[0m PINN\u001b[39m.\u001b[39mxavier()\n\u001b[1;32m     16\u001b[0m \u001b[39m#train the PINN\u001b[39;00m\n\u001b[0;32m---> 17\u001b[0m loss, epochs_done, flag \u001b[39m=\u001b[39m train(PINN, t_max, t_steps, weights\u001b[39m=\u001b[39;49mweights, auto_stop\u001b[39m=\u001b[39;49m\u001b[39mTrue\u001b[39;49;00m, abstol\u001b[39m=\u001b[39;49m\u001b[39m1e-7\u001b[39;49m, patience\u001b[39m=\u001b[39;49m\u001b[39m10\u001b[39;49m, normalize_data\u001b[39m=\u001b[39;49m\u001b[39mFalse\u001b[39;49;00m, verbose\u001b[39m=\u001b[39;49m\u001b[39mFalse\u001b[39;49;00m)  \u001b[39m# type: ignore\u001b[39;00m\n\u001b[1;32m     19\u001b[0m \u001b[39m'''\u001b[39;00m\n\u001b[1;32m     20\u001b[0m \u001b[39mprint('INFO ON THE TRAINING:\\n')\u001b[39;00m\n\u001b[1;32m     21\u001b[0m \u001b[39mprint('\\t', 'Training flag:\\t\\t', flag)\u001b[39;00m\n\u001b[1;32m     22\u001b[0m \u001b[39mprint('\\t', 'Number of epochs done:\\t', epochs_done, '\\n')\u001b[39;00m\n\u001b[1;32m     23\u001b[0m \u001b[39m'''\u001b[39;00m\n\u001b[1;32m     25\u001b[0m \u001b[39mprint\u001b[39m(loss[\u001b[39m-\u001b[39m\u001b[39m1\u001b[39m])\n",
      "File \u001b[0;32m~/Documents/Software/PINNs/miha-semester/Bateman_PINN.py:220\u001b[0m, in \u001b[0;36mtrain\u001b[0;34m(network, t_max, t_steps, epochs, weights, optimizer, auto_stop, abstol, patience, max_epoch, batch_size, normalize_data, verbose)\u001b[0m\n\u001b[1;32m    218\u001b[0m t_epoch \u001b[39m=\u001b[39m time\u001b[39m.\u001b[39mtime()\n\u001b[1;32m    219\u001b[0m network\u001b[39m.\u001b[39mtrain() \u001b[39m#set the nn ready to be trained\u001b[39;00m\n\u001b[0;32m--> 220\u001b[0m loss \u001b[39m=\u001b[39m network\u001b[39m.\u001b[39;49mlossFunction(t, weights, batch_size)\n\u001b[1;32m    222\u001b[0m \u001b[39m#auto_stop\u001b[39;00m\n\u001b[1;32m    223\u001b[0m \u001b[39mif\u001b[39;00m auto_stop\u001b[39m==\u001b[39m\u001b[39mTrue\u001b[39;00m \u001b[39mand\u001b[39;00m \u001b[39mabs\u001b[39m(previous_loss\u001b[39m-\u001b[39mloss)\u001b[39m<\u001b[39mabstol:\n",
      "File \u001b[0;32m~/Documents/Software/PINNs/miha-semester/Bateman_PINN.py:134\u001b[0m, in \u001b[0;36mBatemanPINN.lossFunction\u001b[0;34m(self, t, weights, batch_size)\u001b[0m\n\u001b[1;32m    131\u001b[0m \u001b[39m#exact and predicted initial values\u001b[39;00m\n\u001b[1;32m    132\u001b[0m N_exact_0 \u001b[39m=\u001b[39m \u001b[39mself\u001b[39m\u001b[39m.\u001b[39minitial\n\u001b[0;32m--> 134\u001b[0m N_0 \u001b[39m=\u001b[39m \u001b[39mself\u001b[39;49m(t0)\n\u001b[1;32m    135\u001b[0m \u001b[39m#predict values of the network at training times\u001b[39;00m\n\u001b[1;32m    136\u001b[0m N_t \u001b[39m=\u001b[39m \u001b[39mself\u001b[39m(t)\n",
      "File \u001b[0;32m~/miniforge3/envs/PINN/lib/python3.9/site-packages/torch/nn/modules/module.py:1194\u001b[0m, in \u001b[0;36mModule._call_impl\u001b[0;34m(self, *input, **kwargs)\u001b[0m\n\u001b[1;32m   1190\u001b[0m \u001b[39m# If we don't have any hooks, we want to skip the rest of the logic in\u001b[39;00m\n\u001b[1;32m   1191\u001b[0m \u001b[39m# this function, and just call forward.\u001b[39;00m\n\u001b[1;32m   1192\u001b[0m \u001b[39mif\u001b[39;00m \u001b[39mnot\u001b[39;00m (\u001b[39mself\u001b[39m\u001b[39m.\u001b[39m_backward_hooks \u001b[39mor\u001b[39;00m \u001b[39mself\u001b[39m\u001b[39m.\u001b[39m_forward_hooks \u001b[39mor\u001b[39;00m \u001b[39mself\u001b[39m\u001b[39m.\u001b[39m_forward_pre_hooks \u001b[39mor\u001b[39;00m _global_backward_hooks\n\u001b[1;32m   1193\u001b[0m         \u001b[39mor\u001b[39;00m _global_forward_hooks \u001b[39mor\u001b[39;00m _global_forward_pre_hooks):\n\u001b[0;32m-> 1194\u001b[0m     \u001b[39mreturn\u001b[39;00m forward_call(\u001b[39m*\u001b[39;49m\u001b[39minput\u001b[39;49m, \u001b[39m*\u001b[39;49m\u001b[39m*\u001b[39;49mkwargs)\n\u001b[1;32m   1195\u001b[0m \u001b[39m# Do not call functions when jit is used\u001b[39;00m\n\u001b[1;32m   1196\u001b[0m full_backward_hooks, non_full_backward_hooks \u001b[39m=\u001b[39m [], []\n",
      "File \u001b[0;32m~/Documents/Software/PINNs/miha-semester/Bateman_PINN.py:88\u001b[0m, in \u001b[0;36mBatemanPINN.forward\u001b[0;34m(self, t)\u001b[0m\n\u001b[1;32m     86\u001b[0m \u001b[39mfor\u001b[39;00m layer \u001b[39min\u001b[39;00m \u001b[39mself\u001b[39m\u001b[39m.\u001b[39mhidden_layers:\n\u001b[1;32m     87\u001b[0m     t \u001b[39m=\u001b[39m \u001b[39mself\u001b[39m\u001b[39m.\u001b[39mactivation(layer(t))\n\u001b[0;32m---> 88\u001b[0m t \u001b[39m=\u001b[39m \u001b[39mself\u001b[39;49m\u001b[39m.\u001b[39;49moutput_layer(t)\n\u001b[1;32m     89\u001b[0m \u001b[39mreturn\u001b[39;00m t\n",
      "File \u001b[0;32m~/miniforge3/envs/PINN/lib/python3.9/site-packages/torch/nn/modules/module.py:1194\u001b[0m, in \u001b[0;36mModule._call_impl\u001b[0;34m(self, *input, **kwargs)\u001b[0m\n\u001b[1;32m   1190\u001b[0m \u001b[39m# If we don't have any hooks, we want to skip the rest of the logic in\u001b[39;00m\n\u001b[1;32m   1191\u001b[0m \u001b[39m# this function, and just call forward.\u001b[39;00m\n\u001b[1;32m   1192\u001b[0m \u001b[39mif\u001b[39;00m \u001b[39mnot\u001b[39;00m (\u001b[39mself\u001b[39m\u001b[39m.\u001b[39m_backward_hooks \u001b[39mor\u001b[39;00m \u001b[39mself\u001b[39m\u001b[39m.\u001b[39m_forward_hooks \u001b[39mor\u001b[39;00m \u001b[39mself\u001b[39m\u001b[39m.\u001b[39m_forward_pre_hooks \u001b[39mor\u001b[39;00m _global_backward_hooks\n\u001b[1;32m   1193\u001b[0m         \u001b[39mor\u001b[39;00m _global_forward_hooks \u001b[39mor\u001b[39;00m _global_forward_pre_hooks):\n\u001b[0;32m-> 1194\u001b[0m     \u001b[39mreturn\u001b[39;00m forward_call(\u001b[39m*\u001b[39;49m\u001b[39minput\u001b[39;49m, \u001b[39m*\u001b[39;49m\u001b[39m*\u001b[39;49mkwargs)\n\u001b[1;32m   1195\u001b[0m \u001b[39m# Do not call functions when jit is used\u001b[39;00m\n\u001b[1;32m   1196\u001b[0m full_backward_hooks, non_full_backward_hooks \u001b[39m=\u001b[39m [], []\n",
      "File \u001b[0;32m~/miniforge3/envs/PINN/lib/python3.9/site-packages/torch/nn/modules/linear.py:114\u001b[0m, in \u001b[0;36mLinear.forward\u001b[0;34m(self, input)\u001b[0m\n\u001b[1;32m    113\u001b[0m \u001b[39mdef\u001b[39;00m \u001b[39mforward\u001b[39m(\u001b[39mself\u001b[39m, \u001b[39minput\u001b[39m: Tensor) \u001b[39m-\u001b[39m\u001b[39m>\u001b[39m Tensor:\n\u001b[0;32m--> 114\u001b[0m     \u001b[39mreturn\u001b[39;00m F\u001b[39m.\u001b[39;49mlinear(\u001b[39minput\u001b[39;49m, \u001b[39mself\u001b[39;49m\u001b[39m.\u001b[39;49mweight, \u001b[39mself\u001b[39;49m\u001b[39m.\u001b[39;49mbias)\n",
      "\u001b[0;31mRuntimeError\u001b[0m: expected scalar type Float but found Double"
     ]
    }
   ],
   "source": [
    "n_hidden_layers = 1\n",
    "lamda_num = lamda_matrix.shape[0]\n",
    "neurons = lamda_num\n",
    "\n",
    "#parameters for the training\n",
    "t_max = 3.5\n",
    "t_steps = 1000\n",
    "weights = [50000000,1]\n",
    "initial = np.zeros(lamda_num)\n",
    "initial[0] = 100\n",
    "\n",
    "#create the PINN\n",
    "PINN = BatemanPINN(lamda_matrix, n_hidden_layers, neurons, initial=initial)\n",
    "PINN.xavier()\n",
    "\n",
    "#train the PINN\n",
    "loss, epochs_done, flag = train(PINN, t_max, t_steps, weights=weights, auto_stop=True, abstol=1e-7, patience=10, normalize_data=False, verbose=False)  # type: ignore\n",
    "\n",
    "'''\n",
    "print('INFO ON THE TRAINING:\\n')\n",
    "print('\\t', 'Training flag:\\t\\t', flag)\n",
    "print('\\t', 'Number of epochs done:\\t', epochs_done, '\\n')\n",
    "'''\n",
    "\n",
    "print(loss[-1])\n",
    "\n",
    "#evaluate the population with the PINN\n",
    "PINN.eval() #prepare the PINN to evaluate\n",
    "t_eval = torch.linspace(0, t_max, t_steps, requires_grad=True, device=DEVICE).reshape(-1,1)    #reshape it to a tensor [1, t_steps]\n",
    "N_t = PINN(t_eval)\n",
    "t_draw = t_eval[:,0].cpu().detach().numpy()"
   ]
  },
  {
   "cell_type": "code",
   "execution_count": 39,
   "metadata": {},
   "outputs": [
    {
     "name": "stderr",
     "output_type": "stream",
     "text": [
      "/Users/mihapompe/miniforge3/envs/PINN/lib/python3.9/site-packages/scipy/sparse/linalg/_dsolve/linsolve.py:214: SparseEfficiencyWarning: spsolve requires A be CSC or CSR matrix format\n",
      "  warn('spsolve requires A be CSC or CSR matrix format',\n"
     ]
    }
   ],
   "source": [
    "Ns = get_AnalyticalSolution_CRAM(PINN.lamda_matrix.cpu().numpy(), PINN.initial.cpu().numpy(), t_draw).T"
   ]
  },
  {
   "cell_type": "code",
   "execution_count": 40,
   "metadata": {},
   "outputs": [
    {
     "data": {
      "image/png": "[encoded data removed]",
      "text/plain": [
       "<Figure size 640x480 with 1 Axes>"
      ]
     },
     "metadata": {},
     "output_type": "display_data"
    }
   ],
   "source": [
    "for i in range(lamda_num):\n",
    "    N_i = N_t[:, i].cpu().detach().numpy()\n",
    "    if i != 0:\n",
    "        plt.plot(t_draw, N_i)\n",
    "        plt.plot(t_draw, Ns[i], \":\")"
   ]
  },
  {
   "cell_type": "markdown",
   "metadata": {},
   "source": [
    "### Test of the method _\"normalization\"_ for 2 isotopes"
   ]
  },
  {
   "cell_type": "markdown",
   "metadata": {},
   "source": [
    "Here we are going to test the method _normalization_ using the same parameters of the first test: \"_BatemanPINN_ for 2 isotopes\".\n",
    "\n",
    "\n",
    "What is interesting is that now with the same initial parameters the NN needs almost 3 times more epochs."
   ]
  },
  {
   "cell_type": "code",
   "execution_count": null,
   "metadata": {},
   "outputs": [],
   "source": [
    "#parameters for the PINN\n",
    "lamda = [5,3]\n",
    "lamda_matrix = np.array([[-lamda[0],0],[lamda[0],-lamda[1]]])\n",
    "n_hidden_layers = 1\n",
    "neurons = 50\n",
    "\n",
    "#parameters for the training\n",
    "t_max = 2.5\n",
    "t_steps = 100\n",
    "weights = [1,1]\n",
    "\n",
    "#create the PINN\n",
    "PINN = BatemanPINN(lamda_matrix, n_hidden_layers, neurons)\n",
    "PINN.xavier()\n",
    "\n",
    "#train the PINN\n",
    "loss, epochs_done, flag = train(PINN, t_max, t_steps, weights=weights, auto_stop=True, abstol=1e-5, patience=10, normalize_data=True, verbose=False)  # type: ignore\n",
    "print('INFO ON THE TRAINING:\\n')\n",
    "print('\\t', 'Training flag:\\t\\t', flag)\n",
    "print('\\t', 'Number of epochs done:\\t', epochs_done, '\\n')\n",
    "\n",
    "#evaluate the population with the PINN\n",
    "PINN.eval()\n",
    "t_eval = torch.linspace(0, t_max, t_steps, requires_grad=True, device=DEVICE).reshape(-1,1)   \n",
    "t_norm = PINN.normalize(t_eval)\n",
    "\n",
    "N_t = PINN(t_norm)\n",
    "# PINN.normalize_restore(t_eval)\n",
    "\n",
    "N1_t = N_t[:, 0].cpu().detach().numpy()\n",
    "N2_t = N_t[:, 1].cpu().detach().numpy()\n",
    "\n",
    "t_draw = t_norm[:,0].cpu().detach().numpy()\n",
    "\n",
    "#analytical soluton\n",
    "N1_analy_t = []\n",
    "N2_analy_t = []\n",
    "lamda_norm = torch.abs(torch.diag(PINN.lamda_matrix)).detach()\n",
    "\n",
    "for t_i in t_draw:\n",
    "    N1_ti, N2_ti = get_AnalyticalSolution(lamda_norm.cpu(), PINN.initial.cpu(), t_i)\n",
    "    N1_analy_t.append(N1_ti)\n",
    "    N2_analy_t.append(N2_ti)\n",
    "\n",
    "plt.figure(figsize=(9,7)) \n",
    "plt.plot(t_draw, N1_t, label='N1_PINN(t)', color='orange')\n",
    "plt.plot(t_draw, N2_t, label='N2_PINN(t)', color='purple')\n",
    "\n",
    "plt.plot(t_draw, N1_analy_t, label='N1_Analytical(t)', color='green', linestyle='--', dashes=(5, 10))\n",
    "plt.plot(t_draw, N2_analy_t, label='N2_Analytical(t)', color='lime', linestyle='--', dashes=(5, 10))\n",
    "\n",
    "plt.xlabel('normalized time')\n",
    "plt.ylabel('loss')\n",
    "plt.title('Plot the populations with the normalized inputs')\n",
    "plt.legend()\n",
    "plt.show()"
   ]
  },
  {
   "cell_type": "markdown",
   "metadata": {},
   "source": [
    "### Test for stochastic gradient descent"
   ]
  },
  {
   "cell_type": "code",
   "execution_count": null,
   "metadata": {},
   "outputs": [],
   "source": [
    "#parameters for the PINN\n",
    "lamda = [5,3,0]\n",
    "lamda_matrix = get_lamda_matrix(lamda, n_isotopes=3)\n",
    "n_hidden_layers = 1\n",
    "neurons = 50\n",
    "batch_size = 1\n",
    "\n",
    "#parameters for the training\n",
    "t_max = 3.5\n",
    "t_steps = 1000\n",
    "weights = [1,1]"
   ]
  },
  {
   "cell_type": "code",
   "execution_count": null,
   "metadata": {},
   "outputs": [],
   "source": [
    "#create the PINN\n",
    "PINN = BatemanPINN(lamda_matrix, n_hidden_layers, neurons, initial=[100.,0,0])\n",
    "PINN.xavier()\n",
    "\n",
    "#train the PINN\n",
    "loss, epochs_done, flag = train(PINN, t_max, t_steps, epochs=200, weights=weights, auto_stop=False, max_epoch=500, abstol=1e-5, patience=1, batch_size=batch_size, normalize_data=False, verbose=False)  # type: ignore\n",
    "\n",
    "'''\n",
    "print('INFO ON THE TRAINING:\\n')\n",
    "print('\\t', 'Training flag:\\t\\t', flag)\n",
    "print('\\t', 'Number of epochs done:\\t', epochs_done, '\\n')\n",
    "'''\n",
    "\n",
    "#evaluate the population with the PINN\n",
    "PINN.eval() #prepare the PINN to evaluate\n",
    "t_eval = torch.linspace(0, t_max, t_steps, requires_grad=True, device=DEVICE).reshape(-1,1)    #reshape it to a tensor [1, t_steps]\n",
    "N_t = PINN(t_eval)\n",
    "\n",
    "#save the predictions on np array\n",
    "N1_t = N_t[:, 0].cpu().detach().numpy()\n",
    "N2_t = N_t[:, 1].cpu().detach().numpy()\n",
    "N3_t = N_t[:, 2].cpu().detach().numpy()\n",
    "t_draw = t_eval[:,0].cpu().detach().numpy()\n",
    "\n",
    "#anlaytical solution\n",
    "N1_analy_t = []\n",
    "N2_analy_t = []\n",
    "N3_analy_t = []\n",
    "\n",
    "for t_i in t_draw:\n",
    "    N_analy = get_AnalyticalSolution(PINN.lamda.cpu().detach().numpy(), PINN.initial.cpu().detach().numpy(), t_i)\n",
    "\n",
    "    N1_analy_t.append(N_analy[0])\n",
    "    N2_analy_t.append(N_analy[1])\n",
    "    N3_analy_t.append(N_analy[2])"
   ]
  },
  {
   "cell_type": "code",
   "execution_count": null,
   "metadata": {},
   "outputs": [],
   "source": [
    "loss"
   ]
  },
  {
   "cell_type": "code",
   "execution_count": null,
   "metadata": {},
   "outputs": [],
   "source": [
    "print(\"I've done: \", epochs_done, \" epochs\\n\\n\")\n",
    "plt.figure(figsize=(7,5)) \n",
    "plt.plot(range(len(loss)), loss, label='loss function')\n",
    "\n",
    "plt.xlabel('epoch')\n",
    "plt.ylabel('loss')\n",
    "plt.title(r'Loss Function')\n",
    "plt.legend()\n",
    "plt.show()"
   ]
  },
  {
   "cell_type": "code",
   "execution_count": null,
   "metadata": {},
   "outputs": [],
   "source": [
    "plt.figure(figsize=(9,7)) \n",
    "plt.plot(t_draw, N1_t, label='N1_PINN(t)', color='orange')\n",
    "plt.plot(t_draw, N2_t, label='N2_PINN(t)', color='purple')\n",
    "plt.plot(t_draw, N3_t, label='N3_PINN(t)', color='blue')\n",
    "\n",
    "plt.plot(t_draw, N1_analy_t, label='N1_Analytical(t)', color='green', linestyle='--', dashes=(5, 10))\n",
    "plt.plot(t_draw, N2_analy_t, label='N2_Analytical(t)', color='lime', linestyle='--', dashes=(5, 10))\n",
    "plt.plot(t_draw, N3_analy_t, label='N3_Analytical(t)', color='aqua', linestyle='--', dashes=(5, 10))\n",
    "\n",
    "plt.xlabel('time (s)')\n",
    "plt.ylabel('Population')\n",
    "plt.title(f'Plot the pupulations for 3 isotopes')\n",
    "plt.text(4, 4, f'lamdba: {lamda}\\nlayer: {n_hidden_layers}\\nneurons: {neurons}\\nt_steps: {t_steps}\\nweights: {weights}')\n",
    "plt.legend()\n",
    "plt.show()"
   ]
  },
  {
   "cell_type": "markdown",
   "metadata": {},
   "source": [
    "### Supervised learning"
   ]
  },
  {
   "cell_type": "code",
   "execution_count": null,
   "metadata": {},
   "outputs": [],
   "source": [
    "#parameters for the PINN\n",
    "lamda = [1000,1,0]\n",
    "lamda_matrix = get_lamda_matrix(lamda, n_isotopes=3)\n",
    "n_hidden_layers = 1\n",
    "neurons = 500\n",
    "\n",
    "#parameters for the training\n",
    "t_max = 3.5\n",
    "t_steps = 10000\n",
    "weights = [1,1]"
   ]
  },
  {
   "cell_type": "code",
   "execution_count": null,
   "metadata": {},
   "outputs": [],
   "source": [
    "#create the PINN\n",
    "PINN = BatemanPINN(lamda_matrix, n_hidden_layers, neurons, initial=[100.,0,0])\n",
    "PINN.xavier()\n",
    "\n",
    "#train the PINN\n",
    "loss, epochs_done, flag = train_Supervised(PINN, t_max, t_steps, weights=weights, auto_stop=True, abstol=1e-7, patience=10, normalize_data=False, verbose=False)  # type: ignore\n",
    "\n",
    "'''\n",
    "print('INFO ON THE TRAINING:\\n')\n",
    "print('\\t', 'Training flag:\\t\\t', flag)\n",
    "print('\\t', 'Number of epochs done:\\t', epochs_done, '\\n')\n",
    "'''\n",
    "\n",
    "#evaluate the population with the PINN\n",
    "PINN.eval() #prepare the PINN to evaluate\n",
    "t_eval = torch.linspace(0, t_max, t_steps, requires_grad=True, device=DEVICE).reshape(-1,1)    #reshape it to a tensor [1, t_steps]\n",
    "N_t = PINN(t_eval)\n",
    "\n",
    "#save the predictions on np array\n",
    "N1_t = N_t[:, 0].cpu().detach().numpy()\n",
    "N2_t = N_t[:, 1].cpu().detach().numpy()\n",
    "N3_t = N_t[:, 2].cpu().detach().numpy()\n",
    "t_draw = t_eval[:,0].cpu().detach().numpy()\n",
    "#anlaytical solution\n",
    "N1_analy_t = []\n",
    "N2_analy_t = []\n",
    "N3_analy_t = []\n",
    "\n",
    "for t_i in t_draw:\n",
    "    N_analy = get_AnalyticalSolution(PINN.lamda.cpu().detach().numpy(), PINN.initial.cpu().detach().numpy(), t_i)\n",
    "\n",
    "    N1_analy_t.append(N_analy[0])\n",
    "    N2_analy_t.append(N_analy[1])\n",
    "    N3_analy_t.append(N_analy[2])"
   ]
  },
  {
   "cell_type": "code",
   "execution_count": null,
   "metadata": {},
   "outputs": [],
   "source": [
    "print(\"I've done: \", epochs_done, \" epochs\\n\\n\")\n",
    "plt.figure(figsize=(7,5)) \n",
    "plt.plot(range(len(loss)), loss, label='loss function')\n",
    "\n",
    "plt.xlabel('epoch')\n",
    "plt.ylabel('loss')\n",
    "plt.title(r'Loss Function')\n",
    "plt.legend()\n",
    "plt.show()"
   ]
  },
  {
   "cell_type": "code",
   "execution_count": null,
   "metadata": {},
   "outputs": [],
   "source": [
    "plt.figure(figsize=(9,7)) \n",
    "plt.plot(t_draw, N1_t, label='N1_PINN(t)', color='orange')\n",
    "plt.plot(t_draw, N2_t, label='N2_PINN(t)', color='purple')\n",
    "plt.plot(t_draw, N3_t, label='N3_PINN(t)', color='blue')\n",
    "\n",
    "plt.plot(t_draw, N1_analy_t, label='N1_Analytical(t)', color='green', linestyle='--', dashes=(5, 10))\n",
    "plt.plot(t_draw, N2_analy_t, label='N2_Analytical(t)', color='lime', linestyle='--', dashes=(5, 10))\n",
    "plt.plot(t_draw, N3_analy_t, label='N3_Analytical(t)', color='aqua', linestyle='--', dashes=(5, 10))\n",
    "\n",
    "plt.xlabel('time (s)')\n",
    "plt.ylabel('Population')\n",
    "plt.title(f'Decay of 3 isotopes')\n",
    "# plt.text(4, 4, f'lamdba: {lamda}\\nlayer: {n_hidden_layers}\\nneurons: {neurons}\\nt_steps: {t_steps}\\nweights: {weights}')\n",
    "\n",
    "# plt.xlim(right=0.1)\n",
    "# plt.xlim(left=-0.1)\n",
    "\n",
    "plt.legend()\n",
    "plt.show()"
   ]
  },
  {
   "cell_type": "markdown",
   "metadata": {},
   "source": [
    "### Plot for the poster"
   ]
  },
  {
   "cell_type": "code",
   "execution_count": null,
   "metadata": {},
   "outputs": [],
   "source": [
    "#parameters for the PINN\n",
    "lamda = [5,3,0]\n",
    "lamda_matrix = get_lamda_matrix(lamda, n_isotopes=3)\n",
    "n_hidden_layers = 1\n",
    "neurons = 50\n",
    "\n",
    "#parameters for the training\n",
    "t_max = 2\n",
    "t_steps = 500\n",
    "weights = [50,1]\n",
    "\n",
    "print('lambda_matrix:\\n', lamda_matrix)"
   ]
  },
  {
   "cell_type": "code",
   "execution_count": null,
   "metadata": {},
   "outputs": [],
   "source": [
    "#create the PINN\n",
    "PINN = BatemanPINN(lamda_matrix, n_hidden_layers, neurons, initial=[100.,0,0])\n",
    "PINN.xavier()\n",
    "\n",
    "#train the PINN\n",
    "loss, epochs_done, flag = train(PINN, t_max, t_steps, weights=weights, auto_stop=True, abstol=1e-7, patience=10, normalize_data=False, verbose=False)  # type: ignore\n",
    "\n",
    "#evaluate the population with the PINN\n",
    "PINN.eval() #prepare the PINN to evaluate\n",
    "t_eval = torch.linspace(0, t_max, t_steps, requires_grad=True, device=DEVICE).reshape(-1,1)    #reshape it to a tensor [1, t_steps]\n",
    "N_t = PINN(t_eval)\n",
    "\n",
    "#save the predictions on np array\n",
    "N1_t = N_t[:, 0].cpu().detach().numpy()\n",
    "N2_t = N_t[:, 1].cpu().detach().numpy()\n",
    "N3_t = N_t[:, 2].cpu().detach().numpy()\n",
    "t_draw = t_eval[:,0].cpu().detach().numpy()"
   ]
  },
  {
   "cell_type": "code",
   "execution_count": null,
   "metadata": {},
   "outputs": [],
   "source": [
    "#anlaytical solution FULL\n",
    "N1_analy_t = []\n",
    "N2_analy_t = []\n",
    "N3_analy_t = []\n",
    "\n",
    "#for the analytical solution we pick fewer points to do a scatterplot\n",
    "for t_i in t_draw:\n",
    "    N_analy = get_AnalyticalSolution(PINN.lamda.cpu().detach().numpy(), PINN.initial.cpu().detach().numpy(), t_i)\n",
    "\n",
    "    N1_analy_t.append(N_analy[0])\n",
    "    N2_analy_t.append(N_analy[1])\n",
    "    N3_analy_t.append(N_analy[2])\n",
    "\n",
    "\n",
    "#anlaytical solution SCATTER_PLOT\n",
    "N1_analy_t_scatter = []\n",
    "N2_analy_t_scatter = []\n",
    "N3_analy_t_scatter = []\n",
    "\n",
    "#for the analytical solution we pick fewer points to do a scatterplot\n",
    "t_scatter = np.linspace(0, t_draw[-1], num=10)\n",
    "# t_scatter = np.logspace(-10, 0.176091, num=50)\n",
    "for t_i in t_scatter:\n",
    "    N_analy_scatter = get_AnalyticalSolution(PINN.lamda.cpu().detach().numpy(), PINN.initial.cpu().detach().numpy(), t_i)\n",
    "\n",
    "    N1_analy_t_scatter.append(N_analy_scatter[0])\n",
    "    N2_analy_t_scatter.append(N_analy_scatter[1])\n",
    "    N3_analy_t_scatter.append(N_analy_scatter[2])"
   ]
  },
  {
   "cell_type": "code",
   "execution_count": null,
   "metadata": {},
   "outputs": [],
   "source": [
    "my_palette_PINN= [\"tab:red\", \"tab:blue\", \"tab:green\"]\n",
    "my_palette_Analy= [\"black\", \"tab:orange\", \"darkviolet\"]\n",
    "my_dash_linewidth = 4.5\n",
    "\n",
    "plt.figure(figsize=(9,7)) \n",
    "plt.plot(t_draw, N1_t, label='N1_PINN(t)', color=my_palette_PINN[0], linewidth=2.5)\n",
    "plt.plot(t_draw, N2_t, label='N2_PINN(t)', color=my_palette_PINN[1], linewidth=2.5)\n",
    "plt.plot(t_draw, N3_t, label='N3_PINN(t)', color=my_palette_PINN[2], linewidth=2.5)\n",
    "\n",
    "plt.plot(t_draw, N1_analy_t, label='N1_Analytical(t)', color=my_palette_Analy[0], linestyle='--', dashes=(5, 7), linewidth=my_dash_linewidth)\n",
    "plt.plot(t_draw, N2_analy_t, label='N2_Analytical(t)', color=my_palette_Analy[1], linestyle='--', dashes=(5, 7), linewidth=my_dash_linewidth)\n",
    "plt.plot(t_draw, N3_analy_t, label='N3_Analytical(t)', color=my_palette_Analy[2], linestyle='--', dashes=(5, 7), linewidth=my_dash_linewidth)\n",
    "\n",
    "# plt.scatter(t_scatter, N1_analy_t_scatter, label='N1_Analytical(t)', color=my_palette_Analy[0], s=[50 for _ in range(len(t_scatter))])\n",
    "# plt.scatter(t_scatter, N2_analy_t_scatter, label='N2_Analytical(t)', color=my_palette_Analy[1], s=[50 for _ in range(len(t_scatter))])\n",
    "# plt.scatter(t_scatter, N3_analy_t_scatter, label='N3_Analytical(t)', color=my_palette_Analy[2], s=[50 for _ in range(len(t_scatter))])\n",
    "\n",
    "plt.title('Decay of 3 Isotopes', size=16)\n",
    "plt.xlabel('Time [s]', size=14.5)\n",
    "plt.ylabel('Population', size=14.5)\n",
    "plt.xticks(fontsize=12)\n",
    "plt.yticks(fontsize=12)\n",
    "plt.text(1.5, 15, f'A matrix: \\n{lamda_matrix}\\nlayer: {n_hidden_layers}\\nneurons: {neurons}\\nt_steps: {t_steps}\\nweights: {weights}', size=12.5)\n",
    "plt.legend(bbox_to_anchor = [0.95, 0.8], prop={'size': 13})\n",
    "plt.grid()\n",
    "\n",
    "#save figure\n",
    "# plt.savefig('population.pdf', bbox_inches='tight')"
   ]
  },
  {
   "cell_type": "code",
   "execution_count": null,
   "metadata": {},
   "outputs": [],
   "source": []
  }
 ],
 "metadata": {
  "kernelspec": {
   "display_name": "PINN",
   "language": "python",
   "name": "python3"
  },
  "language_info": {
   "codemirror_mode": {
    "name": "ipython",
    "version": 3
   },
   "file_extension": ".py",
   "mimetype": "text/x-python",
   "name": "python",
   "nbconvert_exporter": "python",
   "pygments_lexer": "ipython3",
   "version": "3.9.16"
  },
  "orig_nbformat": 4,
  "vscode": {
   "interpreter": {
    "hash": "aaec6f3a571f455d4b7978858bf936f8ecf265fec0bbc390620a4b73e3a9f17e"
   }
  }
 },
 "nbformat": 4,
 "nbformat_minor": 2
}
